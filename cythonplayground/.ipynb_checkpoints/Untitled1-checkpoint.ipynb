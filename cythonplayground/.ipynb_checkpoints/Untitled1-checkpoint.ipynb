{
 "cells": [
  {
   "cell_type": "code",
   "execution_count": 1,
   "metadata": {
    "collapsed": true
   },
   "outputs": [],
   "source": [
    "import setuptools; import numpy as np; from copy import copy; import matplotlib; import matplotlib.pyplot as plt\n",
    "%matplotlib inline"
   ]
  },
  {
   "cell_type": "markdown",
   "metadata": {},
   "source": [
    "#Cython: Blend the best of pyhton and C++\n",
    "\n",
    "Cython is a superset of python language that can generate C code that compiles with all major C/C++ compilers.\n",
    "\n",
    "Cython allows you to:\n",
    "\n",
    "+ Easily tune readable Python code into plain C adding static type declarations.\n",
    "+ Wrapp external C libraries\n",
    "\n",
    "\n",
    "<img src=\"cython-wf.png\" height=\"260\" >\n",
    "\n"
   ]
  },
  {
   "cell_type": "markdown",
   "metadata": {},
   "source": [
    "Let's start with a simple python function:"
   ]
  },
  {
   "cell_type": "code",
   "execution_count": 2,
   "metadata": {
    "collapsed": true
   },
   "outputs": [],
   "source": [
    "def fibonatti(n):\n",
    "    if n < 2:\n",
    "        return n\n",
    "    fibPrev = 1\n",
    "    fib = 1\n",
    "    for num in xrange(2, n):\n",
    "        fibPrev, fib = fib, fib + fibPrev\n",
    "    return fib"
   ]
  },
  {
   "cell_type": "code",
   "execution_count": 3,
   "metadata": {
    "collapsed": false
   },
   "outputs": [
    {
     "name": "stdout",
     "output_type": "stream",
     "text": [
      "1 1 2 3 5 8 13 21 34\n"
     ]
    }
   ],
   "source": [
    "for i in xrange(1,10):\n",
    "    print fibonatti(i),"
   ]
  },
  {
   "cell_type": "markdown",
   "metadata": {},
   "source": [
    "And boost its performance by cythonizing the piece of code:\n",
    "\n",
    "####\"cython_examples.pyx\"\n",
    "\n",
    "``` cython\n",
    "cpdef int fibonatti(int n):\n",
    "    cdef int fib, fibPrev, num\n",
    "    if n < 2:\n",
    "        return n\n",
    "    fibPrev = 1\n",
    "    fib = 1\n",
    "    for num in xrange(2, n):\n",
    "        fibPrev, fib = fib, fib + fibPrev\n",
    "    return fib\n",
    "```"
   ]
  },
  {
   "cell_type": "code",
   "execution_count": 4,
   "metadata": {
    "collapsed": true
   },
   "outputs": [],
   "source": [
    "from cython_examples import fibonatti as cfibonatti"
   ]
  },
  {
   "cell_type": "code",
   "execution_count": 5,
   "metadata": {
    "collapsed": false
   },
   "outputs": [
    {
     "name": "stdout",
     "output_type": "stream",
     "text": [
      "1 1 2 3 5 8 13 21 34\n"
     ]
    }
   ],
   "source": [
    "for i in xrange(1,10):\n",
    "    print cfibonatti(i),"
   ]
  },
  {
   "cell_type": "code",
   "execution_count": 6,
   "metadata": {
    "collapsed": false
   },
   "outputs": [
    {
     "name": "stdout",
     "output_type": "stream",
     "text": [
      "1 loops, best of 3: 11.1 s per loop\n"
     ]
    }
   ],
   "source": [
    "%timeit fibonatti(1000000)"
   ]
  },
  {
   "cell_type": "code",
   "execution_count": 7,
   "metadata": {
    "collapsed": false
   },
   "outputs": [
    {
     "name": "stdout",
     "output_type": "stream",
     "text": [
      "1000 loops, best of 3: 652 µs per loop\n"
     ]
    }
   ],
   "source": [
    "%timeit cfibonatti(1000000)"
   ]
  },
  {
   "cell_type": "markdown",
   "metadata": {},
   "source": [
    "##Compiling a cython module\n",
    "\n",
    "Cython is Python with C data types. As Cython can accept almost any valid python source file, one of the hardest things in getting started is just figuring out how to compile your extension. Python code are stored in .pyx files.\n",
    "\n",
    "There are three basic ways to compile and load cython modules into your python code:"
   ]
  },
  {
   "cell_type": "markdown",
   "metadata": {},
   "source": [
    "###1. Creating a setup.py script\n",
    "\n",
    "####setup.py\n",
    "```python\n",
    "from setuptools import setup\n",
    "from Cython.Build import cythonize\n",
    "\n",
    "setup(\n",
    "  name = 'Cython examples',\n",
    "  ext_modules = cythonize(\"cython_examples.pyx\"),\n",
    ")\n",
    "```\n",
    "\n",
    "From command line:\n",
    "```shell\n",
    "python setup.py build_ext --inplace\n",
    "```"
   ]
  },
  {
   "cell_type": "markdown",
   "metadata": {},
   "source": [
    "###2. Using pyximport\n",
    "If the module doesn’t require any extra C libraries pxyimport can be used to directly compile and load the module from a .pyx file\n"
   ]
  },
  {
   "cell_type": "code",
   "execution_count": 6,
   "metadata": {
    "collapsed": false
   },
   "outputs": [
    {
     "name": "stdout",
     "output_type": "stream",
     "text": [
      "1 1 2 3 5 8 13 21 34\n"
     ]
    }
   ],
   "source": [
    "import pyximport\n",
    "pyximport.install()\n",
    "import cython_examples_with_pyximport\n",
    "\n",
    "for i in xrange(1,10):\n",
    "    print cython_examples_with_pyximport.fibonatti(i),"
   ]
  },
  {
   "cell_type": "markdown",
   "metadata": {},
   "source": [
    "###3. In Ipython Notebooks:"
   ]
  },
  {
   "cell_type": "code",
   "execution_count": 7,
   "metadata": {
    "collapsed": false
   },
   "outputs": [],
   "source": [
    " %load_ext Cython"
   ]
  },
  {
   "cell_type": "code",
   "execution_count": 8,
   "metadata": {
    "collapsed": false
   },
   "outputs": [],
   "source": [
    "%%cython\n",
    "cpdef int ipython_fibonatti(int n):\n",
    "    cdef int fib, fibPrev, num\n",
    "    if n < 2:\n",
    "        return n\n",
    "    fibPrev = 1\n",
    "    fib = 1\n",
    "    for num in xrange(2, n):\n",
    "        fibPrev, fib = fib, fib + fibPrev\n",
    "    return fib"
   ]
  },
  {
   "cell_type": "code",
   "execution_count": 9,
   "metadata": {
    "collapsed": false
   },
   "outputs": [
    {
     "name": "stdout",
     "output_type": "stream",
     "text": [
      "1 1 2 3 5 8 13 21 34\n"
     ]
    }
   ],
   "source": [
    "for i in xrange(1,10):\n",
    "    print ipython_fibonatti(i),"
   ]
  },
  {
   "cell_type": "markdown",
   "metadata": {},
   "source": [
    "#Cython syntax\n",
    "+ Implementation files carry a **.pyx** suffix\n",
    "+ **.pxd** files can hold definitios of functions, classes so they can be used by other cython modules. These files can also contain wrappers fro c functions as cython distribution have **numpy.pxd** for example (we will get back to these)"
   ]
  },
  {
   "cell_type": "markdown",
   "metadata": {},
   "source": [
    "##Defining c types\n",
    "The **cdef** statement is used to **declare C variables**, either local or module-level:"
   ]
  },
  {
   "cell_type": "code",
   "execution_count": 12,
   "metadata": {
    "collapsed": false
   },
   "outputs": [],
   "source": [
    "%%cython\n",
    "cdef int i, j, k\n",
    "cdef float f\n",
    "cdef double g[42]\n",
    "cdef char *h"
   ]
  },
  {
   "cell_type": "code",
   "execution_count": 13,
   "metadata": {
    "collapsed": false
   },
   "outputs": [
    {
     "name": "stdout",
     "output_type": "stream",
     "text": [
      "not my kind of cheese\n"
     ]
    }
   ],
   "source": [
    "%%cython \n",
    "cdef struct TadeuDesk:\n",
    "    int mug_counter\n",
    "    char* next_proposal_name\n",
    "    \n",
    "cdef enum CheeseType:\n",
    "    cheddar, edam,\n",
    "    camembert\n",
    "\n",
    "cdef enum CheeseState:\n",
    "    hard = 1\n",
    "    soft = 2\n",
    "    runny = 3\n",
    "    \n",
    "cdef TadeuDesk desk\n",
    "desk.mug_counter = 3\n",
    "    \n",
    "my_cheesetype = cheddar\n",
    "if my_cheesetype != camembert:\n",
    "    print \"not my kind of cheese\""
   ]
  },
  {
   "cell_type": "markdown",
   "metadata": {},
   "source": [
    "Also, classes (another topic we will et back in detail soon)"
   ]
  },
  {
   "cell_type": "code",
   "execution_count": 14,
   "metadata": {
    "collapsed": false
   },
   "outputs": [
    {
     "name": "stdout",
     "output_type": "stream",
     "text": [
      "I love linux\n",
      "I love linux\n",
      "I love linux\n"
     ]
    }
   ],
   "source": [
    "%%cython\n",
    "cdef class Guga(object):\n",
    "    cpdef greeting(self):\n",
    "        cdef int i        \n",
    "        for i in range(3):\n",
    "            print \"I love linux\"\n",
    "            \n",
    "guga = Guga()\n",
    "guga.greeting()"
   ]
  },
  {
   "cell_type": "markdown",
   "metadata": {},
   "source": [
    "There is also a **ctypedef** statement for giving names to types, e.g.:"
   ]
  },
  {
   "cell_type": "code",
   "execution_count": 15,
   "metadata": {
    "collapsed": true
   },
   "outputs": [],
   "source": [
    "%%cython\n",
    "ctypedef unsigned long u_long"
   ]
  },
  {
   "cell_type": "markdown",
   "metadata": {},
   "source": [
    "Use the **cimport** statement, as you would Python’s import statement, to access these files from other definition or implementation files."
   ]
  },
  {
   "cell_type": "code",
   "execution_count": 16,
   "metadata": {
    "collapsed": false
   },
   "outputs": [
    {
     "name": "stdout",
     "output_type": "stream",
     "text": [
      "1.41421356237\n"
     ]
    }
   ],
   "source": [
    "%%cython\n",
    "from libc.math cimport sqrt\n",
    "\n",
    "print sqrt(2.0)"
   ]
  },
  {
   "cell_type": "markdown",
   "metadata": {},
   "source": [
    "##Grouping declarations"
   ]
  },
  {
   "cell_type": "code",
   "execution_count": 17,
   "metadata": {
    "collapsed": false
   },
   "outputs": [],
   "source": [
    "%%cython\n",
    "cdef:\n",
    "    int a\n",
    "    int b\n",
    "    struct BookMeeting:\n",
    "        int participants"
   ]
  },
  {
   "cell_type": "markdown",
   "metadata": {},
   "source": [
    "##Functions and methods declarations\n",
    "\n",
    "There are **three** types of function declarations in Cython\n",
    "\n",
    "Only “Python” functions can be called outside a Cython module from Python interpreted code.\n",
    "\n",
    "###Callable from Python\n",
    "\n",
    "- Are declared with the **def** statement\n",
    "- Are called with Python objects\n",
    "- Return Python objects\n",
    "- See Parameters for special consideration\n",
    "\n",
    "###Callable from C\n",
    "\n",
    "- Are declared with the **cdef** statement.\n",
    "- Are called with either Python objects or C values.\n",
    "- Can return either Python objects or C values.\n",
    "\n",
    "###Callable from both Python and C\n",
    "- Are declared with the **cpdef** statement.\n",
    "- Can be called from anywhere, because it uses a little Cython magic.\n",
    "- Uses the faster C calling conventions when being called from other Cython code.\n",
    "Overriding\n",
    "\n",
    "The directive cpdef makes two versions of the method available; one fast for use from Cython and one slower for use from Python. Then:"
   ]
  },
  {
   "cell_type": "code",
   "execution_count": 18,
   "metadata": {
    "collapsed": false
   },
   "outputs": [],
   "source": [
    "%%cython\n",
    "def lala(a):\n",
    "    return a\n",
    "cdef lalala(int a):\n",
    "    return a\n",
    "cpdef lalalala(int a):\n",
    "    return a"
   ]
  },
  {
   "cell_type": "code",
   "execution_count": 19,
   "metadata": {
    "collapsed": false
   },
   "outputs": [
    {
     "name": "stdout",
     "output_type": "stream",
     "text": [
      "1\n",
      "Hello my friends, I told you so\n",
      "3\n"
     ]
    }
   ],
   "source": [
    "print lala(1)\n",
    "\n",
    "try:\n",
    "    print lalala(2)\n",
    "except:\n",
    "    print \"Hello my friends, I told you so\"\n",
    "    \n",
    "print lalalala(3)"
   ]
  },
  {
   "cell_type": "markdown",
   "metadata": {},
   "source": [
    "##Parameters\n",
    "\n",
    "Both **C** and **Python** function types can be declared to have parameters C data types.\n",
    "\n",
    "Use normal C declaration syntax:"
   ]
  },
  {
   "cell_type": "code",
   "execution_count": 20,
   "metadata": {
    "collapsed": false
   },
   "outputs": [],
   "source": [
    "%%cython\n",
    "cpdef sum(int a, int b):\n",
    "    return a + b"
   ]
  },
  {
   "cell_type": "code",
   "execution_count": 21,
   "metadata": {
    "collapsed": false
   },
   "outputs": [
    {
     "data": {
      "text/plain": [
       "3"
      ]
     },
     "execution_count": 21,
     "metadata": {},
     "output_type": "execute_result"
    }
   ],
   "source": [
    "sum(1,2)"
   ]
  },
  {
   "cell_type": "markdown",
   "metadata": {},
   "source": [
    "If no type is specified for a parameter or a return value, **it is assumed to be a Python object**\n",
    "The following takes two Python objects as parameters and returns a Python object:\n"
   ]
  },
  {
   "cell_type": "code",
   "execution_count": 22,
   "metadata": {
    "collapsed": false
   },
   "outputs": [],
   "source": [
    "%%cython\n",
    "cpdef sum(a,b):\n",
    "    return a + b"
   ]
  },
  {
   "cell_type": "markdown",
   "metadata": {},
   "source": [
    "**Optional arguments** can be used:"
   ]
  },
  {
   "cell_type": "code",
   "execution_count": 23,
   "metadata": {
    "collapsed": true
   },
   "outputs": [],
   "source": [
    "%%cython\n",
    "cpdef sum(int a, int b=2):\n",
    "    return a + b"
   ]
  },
  {
   "cell_type": "code",
   "execution_count": 24,
   "metadata": {
    "collapsed": false
   },
   "outputs": [
    {
     "data": {
      "text/plain": [
       "3"
      ]
     },
     "execution_count": 24,
     "metadata": {},
     "output_type": "execute_result"
    }
   ],
   "source": [
    "sum(1)"
   ]
  },
  {
   "cell_type": "markdown",
   "metadata": {},
   "source": [
    "#Let's try it out!"
   ]
  },
  {
   "cell_type": "code",
   "execution_count": 26,
   "metadata": {
    "collapsed": true
   },
   "outputs": [],
   "source": [
    "from math import sin\n",
    "\n",
    "def f(x):\n",
    "    return sin(x**2)\n",
    "\n",
    "def integrate_f(a, b, N):\n",
    "    dx = (b-a)/N\n",
    "    s = 0\n",
    "    for i in range(N):\n",
    "        s += f(a+i*dx)\n",
    "    return s * dx"
   ]
  },
  {
   "cell_type": "code",
   "execution_count": 27,
   "metadata": {
    "collapsed": false
   },
   "outputs": [
    {
     "name": "stdout",
     "output_type": "stream",
     "text": [
      "1 loops, best of 3: 326 ms per loop\n"
     ]
    }
   ],
   "source": [
    "%timeit integrate_f(0, 1, 1000000)"
   ]
  },
  {
   "cell_type": "markdown",
   "metadata": {},
   "source": [
    "## Declaring c types and function parameters"
   ]
  },
  {
   "cell_type": "code",
   "execution_count": 28,
   "metadata": {
    "collapsed": true
   },
   "outputs": [],
   "source": [
    "%%cython\n",
    "from math import sin\n",
    "\n",
    "def f(double x):\n",
    "    return sin(x**2)\n",
    "\n",
    "def cintegrate_f(double a, double b, int N):\n",
    "    cdef double dx, s\n",
    "    cdef int i\n",
    "    \n",
    "    dx = (b-a)/N\n",
    "    s = 0\n",
    "    for i in range(N):\n",
    "        s += f(a+i*dx)\n",
    "    return s * dx"
   ]
  },
  {
   "cell_type": "code",
   "execution_count": 29,
   "metadata": {
    "collapsed": false
   },
   "outputs": [
    {
     "name": "stdout",
     "output_type": "stream",
     "text": [
      "10 loops, best of 3: 175 ms per loop\n"
     ]
    }
   ],
   "source": [
    "%timeit cintegrate_f(0, 1, 1000000)"
   ]
  },
  {
   "cell_type": "markdown",
   "metadata": {},
   "source": [
    "## Declaring cython functions"
   ]
  },
  {
   "cell_type": "code",
   "execution_count": 37,
   "metadata": {
    "collapsed": false
   },
   "outputs": [],
   "source": [
    "%%cython\n",
    "from math import sin\n",
    "\n",
    "cdef double f(double x):\n",
    "    return sin(x**2)\n",
    "\n",
    "def cintegrate_f(double a, double b, int N):\n",
    "    cdef double dx, s\n",
    "    cdef int i\n",
    "    \n",
    "    dx = (b-a)/N\n",
    "    s = 0\n",
    "    for i in range(N):\n",
    "        s += f(a+i*dx)\n",
    "    return s * dx"
   ]
  },
  {
   "cell_type": "code",
   "execution_count": 38,
   "metadata": {
    "collapsed": false
   },
   "outputs": [
    {
     "name": "stdout",
     "output_type": "stream",
     "text": [
      "10 loops, best of 3: 131 ms per loop\n"
     ]
    }
   ],
   "source": [
    "%timeit cintegrate_f(0, 1, 1000000)"
   ]
  },
  {
   "cell_type": "markdown",
   "metadata": {},
   "source": [
    "##Calling external C/C++ functions"
   ]
  },
  {
   "cell_type": "code",
   "execution_count": 39,
   "metadata": {
    "collapsed": false
   },
   "outputs": [],
   "source": [
    "%%cython\n",
    "from libc.math cimport sin\n",
    "\n",
    "cpdef double f(double x):\n",
    "    return sin(x**2)\n",
    "\n",
    "cpdef double cintegrate_f(double a, double b, int N):\n",
    "    cdef double dx, s\n",
    "    cdef int i\n",
    "    \n",
    "    dx = (b-a)/N\n",
    "    s = 0\n",
    "    for i in range(N):\n",
    "        s += f(a+i*dx)\n",
    "    return s * dx"
   ]
  },
  {
   "cell_type": "code",
   "execution_count": 40,
   "metadata": {
    "collapsed": false
   },
   "outputs": [
    {
     "name": "stdout",
     "output_type": "stream",
     "text": [
      "10 loops, best of 3: 75.7 ms per loop\n"
     ]
    }
   ],
   "source": [
    "%timeit cintegrate_f(0, 1, 1000000)"
   ]
  },
  {
   "cell_type": "code",
   "execution_count": 41,
   "metadata": {
    "collapsed": false
   },
   "outputs": [],
   "source": [
    "%%cython\n",
    "cdef extern from \"math.h\":\n",
    "    double sin(double)\n",
    "    \n",
    "cpdef double f(double x):\n",
    "    return sin(x**2)\n",
    "\n",
    "cpdef double cintegrate_f(double a, double b, int N):\n",
    "    cdef double dx, s\n",
    "    cdef int i\n",
    "    \n",
    "    dx = (b-a)/N\n",
    "    s = 0\n",
    "    for i in range(N):\n",
    "        s += f(a+i*dx)\n",
    "    return s * dx"
   ]
  },
  {
   "cell_type": "code",
   "execution_count": 42,
   "metadata": {
    "collapsed": false
   },
   "outputs": [
    {
     "name": "stdout",
     "output_type": "stream",
     "text": [
      "10 loops, best of 3: 75.8 ms per loop\n"
     ]
    }
   ],
   "source": [
    "%timeit cintegrate_f(0, 1, 1000000)"
   ]
  },
  {
   "cell_type": "markdown",
   "metadata": {},
   "source": [
    "#Python syntax\n",
    "The advantage is to use plain python code (no need to change original code). THe drawback is that it doesn't allow access to C functions (cannot override from math import sin)"
   ]
  },
  {
   "cell_type": "code",
   "execution_count": 22,
   "metadata": {
    "collapsed": true
   },
   "outputs": [],
   "source": [
    "import cython\n",
    "from math import sin\n",
    "\n",
    "@cython.locals(x=cython.double)\n",
    "def f(x):\n",
    "    return sin(x**2)\n",
    "\n",
    "@cython.locals(a=cython.double, b=cython.double,\n",
    "               N=cython.int, dx=cython.double,\n",
    "               s=cython.double, i=cython.int)\n",
    "def integrate_f(a, b, N):\n",
    "    dx = (b-a)/N\n",
    "    s = 0\n",
    "    for i in range(N):\n",
    "        s += f(a+i*dx)\n",
    "    return s * dx"
   ]
  },
  {
   "cell_type": "code",
   "execution_count": 23,
   "metadata": {
    "collapsed": false
   },
   "outputs": [
    {
     "name": "stdout",
     "output_type": "stream",
     "text": [
      "10 loops, best of 3: 76.5 ms per loop\n"
     ]
    }
   ],
   "source": [
    "%timeit cintegrate_f(0, 1, 1000000)"
   ]
  },
  {
   "cell_type": "markdown",
   "metadata": {},
   "source": [
    "#Declaring python types is valuable:\n",
    "\n",
    "Access to Python's builtins is heavily optimised\n",
    "- loops: (for ... in range()/list/tuple/dict)\n",
    "- list.append(), list.reverse()\n",
    "- set([...]), tuple([...])"
   ]
  },
  {
   "cell_type": "code",
   "execution_count": 24,
   "metadata": {
    "collapsed": false
   },
   "outputs": [
    {
     "name": "stdout",
     "output_type": "stream",
     "text": [
      "{'A': 'A', 'C': 'C', 'B': 'B', 'E': 'E', 'D': 'D', 'G': 'G', 'F': 'F', 'I': 'I', 'H': 'H', 'K': 'K', 'J': 'J', 'M': 'M', 'L': 'L', 'O': 'O', 'N': 'N', 'Q': 'Q', 'P': 'P', 'S': 'S', 'R': 'R', 'U': 'U', 'T': 'T', 'W': 'W', 'V': 'V', 'Y': 'Y', 'X': 'X', 'Z': 'Z', 'a': 'a', 'c': 'c', 'b': 'b', 'e': 'e', 'd': 'd', 'g': 'g', 'f': 'f', 'i': 'i', 'h': 'h', 'k': 'k', 'j': 'j', 'm': 'm', 'l': 'l', 'o': 'o', 'n': 'n', 'q': 'q', 'p': 'p', 's': 's', 'r': 'r', 'u': 'u', 't': 't', 'w': 'w', 'v': 'v', 'y': 'y', 'x': 'x', 'z': 'z'}\n"
     ]
    }
   ],
   "source": [
    "import string\n",
    "d = { s:s for s in string.ascii_letters }\n",
    "print d"
   ]
  },
  {
   "cell_type": "code",
   "execution_count": 25,
   "metadata": {
    "collapsed": true
   },
   "outputs": [],
   "source": [
    "def filter(d):\n",
    "    return { key : value\n",
    "             for key, value in d.iteritems()\n",
    "             if 'a' not in value }"
   ]
  },
  {
   "cell_type": "code",
   "execution_count": 26,
   "metadata": {
    "collapsed": false
   },
   "outputs": [
    {
     "name": "stdout",
     "output_type": "stream",
     "text": [
      "100000 loops, best of 3: 5.46 µs per loop\n"
     ]
    }
   ],
   "source": [
    "%timeit filter(d)"
   ]
  },
  {
   "cell_type": "code",
   "execution_count": 27,
   "metadata": {
    "collapsed": false
   },
   "outputs": [],
   "source": [
    "%%cython\n",
    "def filter(dict d):\n",
    "    return { key : value\n",
    "             for key, value in d.iteritems()\n",
    "             if 'a' not in value }"
   ]
  },
  {
   "cell_type": "code",
   "execution_count": 28,
   "metadata": {
    "collapsed": false
   },
   "outputs": [
    {
     "name": "stdout",
     "output_type": "stream",
     "text": [
      "100000 loops, best of 3: 2.65 µs per loop\n"
     ]
    }
   ],
   "source": [
    "%timeit filter(d)"
   ]
  },
  {
   "cell_type": "markdown",
   "metadata": {},
   "source": [
    "#Classes (working with extension types)"
   ]
  },
  {
   "cell_type": "code",
   "execution_count": 65,
   "metadata": {
    "collapsed": false
   },
   "outputs": [],
   "source": [
    "%%cython\n",
    "import numpy as np\n",
    "cimport numpy as np\n",
    "from libc.math cimport sqrt\n",
    "\n",
    "cdef class DiscreteSPhere(object):    \n",
    "    \n",
    "    cdef np.ndarray m_center\n",
    "    cdef public int squared_radius # Available in Python-space:\n",
    "    \n",
    "    property center:\n",
    "        def __get__(self):\n",
    "            return self.m_center\n",
    "        def __set__(self, value):\n",
    "            self.m_center = value\n",
    "    \n",
    "    def __init__(self, center, squared_radius):\n",
    "        self.m_center = center\n",
    "        self.squared_radius = squared_radius\n",
    "    \n",
    "    \n",
    "    cpdef double radius(self):\n",
    "        return sqrt(self.squared_radius)"
   ]
  },
  {
   "cell_type": "code",
   "execution_count": 71,
   "metadata": {
    "collapsed": false
   },
   "outputs": [
    {
     "name": "stdout",
     "output_type": "stream",
     "text": [
      "[1 1 1]\n",
      "1.41421356237\n"
     ]
    }
   ],
   "source": [
    "s1 = DiscreteSPhere(np.array([1,1,1]), 2)\n",
    "print s1.center\n",
    "print s1.radius()"
   ]
  },
  {
   "cell_type": "markdown",
   "metadata": {},
   "source": [
    "#Let's tune our previous example"
   ]
  },
  {
   "cell_type": "code",
   "execution_count": 72,
   "metadata": {
    "collapsed": false
   },
   "outputs": [],
   "source": [
    "%%cython\n",
    "from libc.math cimport sin\n",
    "\n",
    "cdef class Function:\n",
    "    cpdef double evaluate(self, double x) except *:\n",
    "        return 0   \n",
    "\n",
    "cdef class SinOfSquareFunction(Function):\n",
    "    cpdef double evaluate(self, double x) except *:\n",
    "        return sin(x**2) \n",
    "\n",
    "cpdef double integrate(Function f, double a, double b, int N):\n",
    "    cdef int i\n",
    "    cdef double s, dx    \n",
    "    s = 0\n",
    "    dx = (b-a)/N\n",
    "    for i in range(N):\n",
    "        s += f.evaluate(a+i*dx)\n",
    "    return s * dx"
   ]
  },
  {
   "cell_type": "code",
   "execution_count": 73,
   "metadata": {
    "collapsed": true
   },
   "outputs": [],
   "source": [
    "my_func = SinOfSquareFunction()"
   ]
  },
  {
   "cell_type": "code",
   "execution_count": 75,
   "metadata": {
    "collapsed": false
   },
   "outputs": [
    {
     "name": "stdout",
     "output_type": "stream",
     "text": [
      "10 loops, best of 3: 80.4 ms per loop\n"
     ]
    }
   ],
   "source": [
    "%timeit integrate(my_func, 0.0, 1.0, 1000000)"
   ]
  },
  {
   "cell_type": "markdown",
   "metadata": {},
   "source": [
    "#Using .pxd files"
   ]
  },
  {
   "cell_type": "markdown",
   "metadata": {},
   "source": [
    "#Working with Numpy"
   ]
  },
  {
   "cell_type": "code",
   "execution_count": 112,
   "metadata": {
    "collapsed": false
   },
   "outputs": [],
   "source": [
    "import numpy as np"
   ]
  },
  {
   "cell_type": "code",
   "execution_count": 53,
   "metadata": {
    "collapsed": false
   },
   "outputs": [],
   "source": [
    "%%cython\n",
    "# \"cimport\" is used to import special compile-time information\n",
    "# about the numpy module (this is stored in a file numpy.pxd which is\n",
    "# currently part of the Cython distribution).\n",
    "cimport numpy as np\n"
   ]
  },
  {
   "cell_type": "code",
   "execution_count": 64,
   "metadata": {
    "collapsed": false
   },
   "outputs": [],
   "source": [
    "import numpy as np\n",
    "\n",
    "def dot_100_times(a,b):    \n",
    "    for i in xrange(100):\n",
    "        np.dot(a,b)"
   ]
  },
  {
   "cell_type": "code",
   "execution_count": 60,
   "metadata": {
    "collapsed": true
   },
   "outputs": [],
   "source": [
    "%%cython\n",
    "import numpy as np\n",
    "cimport numpy as np\n",
    "cpdef cdot_100_times(np.ndarray[np.int32_t, ndim=1] a, np.ndarray[np.int32_t, ndim=1] b):\n",
    "    cdef int i\n",
    "    for i in xrange(100):\n",
    "        np.dot(a,b)"
   ]
  },
  {
   "cell_type": "code",
   "execution_count": 65,
   "metadata": {
    "collapsed": false
   },
   "outputs": [
    {
     "name": "stdout",
     "output_type": "stream",
     "text": [
      "10000 loops, best of 3: 95.2 µs per loop\n"
     ]
    }
   ],
   "source": [
    "%%timeit\n",
    "a = np.array([1,2,3])\n",
    "b = np.array([1,2,3])\n",
    "dot_100_times(a,b)"
   ]
  },
  {
   "cell_type": "code",
   "execution_count": 66,
   "metadata": {
    "collapsed": false
   },
   "outputs": [
    {
     "name": "stdout",
     "output_type": "stream",
     "text": [
      "10000 loops, best of 3: 88.8 µs per loop\n"
     ]
    }
   ],
   "source": [
    "%%timeit\n",
    "a = np.array([1,2,3])\n",
    "b = np.array([1,2,3])\n",
    "cdot_100_times(a,b)"
   ]
  },
  {
   "cell_type": "markdown",
   "metadata": {},
   "source": [
    "#2D Heat diffusion with finite volume and explicit formulation\n",
    "\n",
    "Solve:\n",
    "\n",
    "$$\\frac{\\partial \\left(\\rho cp T\\right)}{\\partial t} = \\frac{\\partial }{\\partial x}\\left(k \\frac{\\partial T}{\\partial x}\\right) + \\frac{\\partial }{\\partial y}\\left(k \\frac{\\partial T}{\\partial y}\\right)$$\n",
    "\n",
    "For a wall domain initially at 0°C, with the following geometry and boundary conditions\n",
    "\n",
    "<img src=\"wall.png\" height=\"260\" >"
   ]
  },
  {
   "cell_type": "code",
   "execution_count": 152,
   "metadata": {
    "collapsed": true
   },
   "outputs": [],
   "source": [
    "L = 0.5; M = 50; dt = 0.25"
   ]
  },
  {
   "cell_type": "code",
   "execution_count": 153,
   "metadata": {
    "collapsed": false
   },
   "outputs": [],
   "source": [
    "def run_simulation(L, M, dt, total_time=1.0):\n",
    "    \n",
    "    # Physical properties --------------------------------------------------------------------------------\n",
    "    k = 100.0; rho = 1000.0; cp = 4200.0;\n",
    "    # Geometrical properties -----------------------------------------------------------------------------\n",
    "    l = L/M; A = l**2; V = l**3.0;    \n",
    "    assert dt <= (0.9 * rho * cp * (l ** 2) / (4.0 * k))\n",
    "    # Boundary conditions --------------------------------------------------------------------------------\n",
    "    u = np.zeros((M,M),dtype=np.float64) # Initial temperature\n",
    "    u[M-1,:] = 25 # Temperature at top wall\n",
    "    # ----------------------------------------------------------------------------------------------------\n",
    "\n",
    "    f = k * A / l # Diffusion term\n",
    "    B = rho * cp * V / dt # Transient term\n",
    "    num_timesteps = int(total_time/dt)\n",
    "    for t in xrange(num_timesteps):                   \n",
    "        u0 = np.copy(u)                \n",
    "        for i in xrange(1,M-1):\n",
    "            for j in xrange(1,M-1):\n",
    "                u[i,j] = (f*u0[i,j+1] + f*u0[i,j-1] + f*u0[i+1,j] + f*u0[i-1,j] + B*u0[i,j]) / (B + 4*f)\n",
    "    return u"
   ]
  },
  {
   "cell_type": "code",
   "execution_count": 157,
   "metadata": {
    "collapsed": false
   },
   "outputs": [],
   "source": [
    "T = run_simulation(L, M, dt, 1000)"
   ]
  },
  {
   "cell_type": "code",
   "execution_count": 158,
   "metadata": {
    "collapsed": false
   },
   "outputs": [
    {
     "data": {
      "text/plain": [
       "<matplotlib.collections.QuadMesh at 0x10d34ef0>"
      ]
     },
     "execution_count": 158,
     "metadata": {},
     "output_type": "execute_result"
    },
    {
     "data": {
      "image/png": "[encoded data removed]",
      "text/plain": [
       "<matplotlib.figure.Figure at 0x10e29a90>"
      ]
     },
     "metadata": {},
     "output_type": "display_data"
    }
   ],
   "source": [
    "plt.pcolormesh(np.linspace(0, L, M) , np.linspace(0, L, M) , T) "
   ]
  },
  {
   "cell_type": "code",
   "execution_count": 159,
   "metadata": {
    "collapsed": false
   },
   "outputs": [],
   "source": [
    "%%cython\n",
    "import numpy as np\n",
    "cimport numpy as np\n",
    "ctypedef np.float64_t DTYPE_t\n",
    "\n",
    "cpdef np.ndarray[np.float64_t, ndim=2] crun_simulation(double L, int M, double dt, double total_time=1.0):\n",
    "    \n",
    "    cdef double k, rho, cp, l, A, V, f, B\n",
    "    cdef int t, i, j, num_timesteps\n",
    "    cdef np.ndarray[np.float64_t, ndim=2] u, u0\n",
    "    \n",
    "    # Physical properties --------------------------------------------------------------------------------\n",
    "    k = 100.0; rho = 1000.0; cp = 4200.0;\n",
    "    # Geometrical properties -----------------------------------------------------------------------------\n",
    "    l = L/M; A = l**2; V = l**3.0;    \n",
    "    assert dt <= (0.9 * rho * cp * (l ** 2) / (4.0 * k)), 'necessary dt: %f'%((0.9 * rho * cp * (l ** 2) / (4.0 * k)))\n",
    "    # Boundary conditions --------------------------------------------------------------------------------\n",
    "    u = np.zeros((M,M),dtype=np.float64) # Initial temperature\n",
    "    u[M-1,:] = 25 # Temperature at top wall\n",
    "    # ----------------------------------------------------------------------------------------------------\n",
    "\n",
    "    f = k * A / l # Diffusion term\n",
    "    B = rho * cp * V / dt # Transient term\n",
    "\n",
    "    num_timesteps = int(total_time/dt)\n",
    "    for t in xrange(num_timesteps):           \n",
    "        u0 = np.copy(u)        \n",
    "        for i in xrange(1,M-1):\n",
    "            for j in xrange(1,M-1):\n",
    "                u[i,j] = (f*u0[i,j+1] + f*u0[i,j-1] + f*u0[i+1,j] + f*u0[i-1,j] + B*u0[i,j]) / (B + 4*f)\n",
    "    return u "
   ]
  },
  {
   "cell_type": "code",
   "execution_count": 161,
   "metadata": {
    "collapsed": false
   },
   "outputs": [],
   "source": [
    "T = crun_simulation(L, M, dt, 1000)"
   ]
  },
  {
   "cell_type": "code",
   "execution_count": 162,
   "metadata": {
    "collapsed": false
   },
   "outputs": [
    {
     "data": {
      "text/plain": [
       "(0.5, 50, 0.25)"
      ]
     },
     "execution_count": 162,
     "metadata": {},
     "output_type": "execute_result"
    }
   ],
   "source": [
    "L,M,dt"
   ]
  },
  {
   "cell_type": "code",
   "execution_count": 163,
   "metadata": {
    "collapsed": false
   },
   "outputs": [
    {
     "data": {
      "text/plain": [
       "<matplotlib.collections.QuadMesh at 0x10c78cc0>"
      ]
     },
     "execution_count": 163,
     "metadata": {},
     "output_type": "execute_result"
    },
    {
     "data": {
      "image/png": "[encoded data removed]",
      "text/plain": [
       "<matplotlib.figure.Figure at 0x11103128>"
      ]
     },
     "metadata": {},
     "output_type": "display_data"
    }
   ],
   "source": [
    "plt.pcolormesh(np.linspace(0, L, M) , np.linspace(0, L, M) , T) "
   ]
  }
 ],
 "metadata": {
  "kernelspec": {
   "display_name": "Python 2",
   "language": "python",
   "name": "python2"
  },
  "language_info": {
   "codemirror_mode": {
    "name": "ipython",
    "version": 2
   },
   "file_extension": ".py",
   "mimetype": "text/x-python",
   "name": "python",
   "nbconvert_exporter": "python",
   "pygments_lexer": "ipython2",
   "version": "2.7.9"
  }
 },
 "nbformat": 4,
 "nbformat_minor": 0
}
